{
 "cells": [
  {
   "cell_type": "markdown",
   "id": "878f37c0",
   "metadata": {
    "id": "878f37c0"
   },
   "source": [
    "\n",
    "**Завдання 1**: Завантажте дані `medical-charges.csv` в пандас датафрейм і виведіть перші 5 записів. Напишіть, як ви можете підійти до вирішення задачі прогнозування колонки `charges` на основі інших колонок виходячи з наявних на даний момент знань (без ML методів, чисто з використанням аналітики). Запишіть 3 або більше ідей, які приходять вам на думку нижче:"
   ]
  },
  {
   "cell_type": "code",
   "execution_count": 1,
   "id": "vlVmXAdrWN7U",
   "metadata": {
    "ExecuteTime": {
     "end_time": "2025-06-14T10:57:48.969006Z",
     "start_time": "2025-06-14T10:57:44.339039Z"
    },
    "id": "vlVmXAdrWN7U"
   },
   "outputs": [],
   "source": [
    "import pandas as pd"
   ]
  },
  {
   "cell_type": "code",
   "execution_count": 2,
   "id": "92a1db0e",
   "metadata": {
    "ExecuteTime": {
     "end_time": "2025-06-14T10:59:19.623222Z",
     "start_time": "2025-06-14T10:59:19.578796Z"
    }
   },
   "outputs": [],
   "source": [
    "df = pd.read_csv('/Users/shein/ML_course/Data/medical-charges.csv')"
   ]
  },
  {
   "cell_type": "code",
   "execution_count": 3,
   "id": "5cc7fe4d",
   "metadata": {
    "ExecuteTime": {
     "end_time": "2025-06-14T11:01:05.734039Z",
     "start_time": "2025-06-14T11:01:05.697010Z"
    }
   },
   "outputs": [
    {
     "data": {
      "text/html": [
       "<div>\n",
       "<style scoped>\n",
       "    .dataframe tbody tr th:only-of-type {\n",
       "        vertical-align: middle;\n",
       "    }\n",
       "\n",
       "    .dataframe tbody tr th {\n",
       "        vertical-align: top;\n",
       "    }\n",
       "\n",
       "    .dataframe thead th {\n",
       "        text-align: right;\n",
       "    }\n",
       "</style>\n",
       "<table border=\"1\" class=\"dataframe\">\n",
       "  <thead>\n",
       "    <tr style=\"text-align: right;\">\n",
       "      <th></th>\n",
       "      <th>age</th>\n",
       "      <th>sex</th>\n",
       "      <th>bmi</th>\n",
       "      <th>children</th>\n",
       "      <th>smoker</th>\n",
       "      <th>region</th>\n",
       "      <th>charges</th>\n",
       "    </tr>\n",
       "  </thead>\n",
       "  <tbody>\n",
       "    <tr>\n",
       "      <th>0</th>\n",
       "      <td>19</td>\n",
       "      <td>female</td>\n",
       "      <td>27.900</td>\n",
       "      <td>0</td>\n",
       "      <td>yes</td>\n",
       "      <td>southwest</td>\n",
       "      <td>16884.92400</td>\n",
       "    </tr>\n",
       "    <tr>\n",
       "      <th>1</th>\n",
       "      <td>18</td>\n",
       "      <td>male</td>\n",
       "      <td>33.770</td>\n",
       "      <td>1</td>\n",
       "      <td>no</td>\n",
       "      <td>southeast</td>\n",
       "      <td>1725.55230</td>\n",
       "    </tr>\n",
       "    <tr>\n",
       "      <th>2</th>\n",
       "      <td>28</td>\n",
       "      <td>male</td>\n",
       "      <td>33.000</td>\n",
       "      <td>3</td>\n",
       "      <td>no</td>\n",
       "      <td>southeast</td>\n",
       "      <td>4449.46200</td>\n",
       "    </tr>\n",
       "    <tr>\n",
       "      <th>3</th>\n",
       "      <td>33</td>\n",
       "      <td>male</td>\n",
       "      <td>22.705</td>\n",
       "      <td>0</td>\n",
       "      <td>no</td>\n",
       "      <td>northwest</td>\n",
       "      <td>21984.47061</td>\n",
       "    </tr>\n",
       "    <tr>\n",
       "      <th>4</th>\n",
       "      <td>32</td>\n",
       "      <td>male</td>\n",
       "      <td>28.880</td>\n",
       "      <td>0</td>\n",
       "      <td>no</td>\n",
       "      <td>northwest</td>\n",
       "      <td>3866.85520</td>\n",
       "    </tr>\n",
       "  </tbody>\n",
       "</table>\n",
       "</div>"
      ],
      "text/plain": [
       "   age     sex     bmi  children smoker     region      charges\n",
       "0   19  female  27.900         0    yes  southwest  16884.92400\n",
       "1   18    male  33.770         1     no  southeast   1725.55230\n",
       "2   28    male  33.000         3     no  southeast   4449.46200\n",
       "3   33    male  22.705         0     no  northwest  21984.47061\n",
       "4   32    male  28.880         0     no  northwest   3866.85520"
      ]
     },
     "execution_count": 3,
     "metadata": {},
     "output_type": "execute_result"
    }
   ],
   "source": [
    "df.head(5)"
   ]
  },
  {
   "cell_type": "markdown",
   "id": "589463f2",
   "metadata": {},
   "source": [
    "1. Побудувати графік для визначення кореляції між змінними. На перший погляд потрібно подивитись кореляцію між індексом маси тіла і вартістю страховки та районом і вартістю страховки. \n"
   ]
  },
  {
   "cell_type": "code",
   "execution_count": 4,
   "id": "53253350",
   "metadata": {
    "ExecuteTime": {
     "end_time": "2025-06-14T11:11:55.392501Z",
     "start_time": "2025-06-14T11:11:55.368621Z"
    }
   },
   "outputs": [
    {
     "name": "stdout",
     "output_type": "stream",
     "text": [
      "<class 'pandas.core.frame.DataFrame'>\n",
      "RangeIndex: 1338 entries, 0 to 1337\n",
      "Data columns (total 7 columns):\n",
      " #   Column    Non-Null Count  Dtype  \n",
      "---  ------    --------------  -----  \n",
      " 0   age       1338 non-null   int64  \n",
      " 1   sex       1338 non-null   object \n",
      " 2   bmi       1338 non-null   float64\n",
      " 3   children  1338 non-null   int64  \n",
      " 4   smoker    1338 non-null   object \n",
      " 5   region    1338 non-null   object \n",
      " 6   charges   1338 non-null   float64\n",
      "dtypes: float64(2), int64(2), object(3)\n",
      "memory usage: 73.3+ KB\n"
     ]
    }
   ],
   "source": [
    "df.info()"
   ]
  },
  {
   "cell_type": "markdown",
   "id": "dc428947",
   "metadata": {
    "id": "dc428947"
   },
   "source": [
    "**Завдання 2**: Візуалізуйте розподіл медичних зборів (`charges`) у вигляді інтерактивної гістограми plotly з розбиттями за категоріями ознак\n",
    "1. `sex`\n",
    "2. `region`\n",
    "\n",
    "Додайте маржинальний графік у вигляді бокс-плота вгорі по дикретним категоріям ознак.\n",
    "Скористайтесь прикладом візуалізації з лекції.\n",
    "Опишіть свої спостереження."
   ]
  },
  {
   "cell_type": "code",
   "execution_count": null,
   "id": "GNRm3rh2WPuo",
   "metadata": {
    "id": "GNRm3rh2WPuo"
   },
   "outputs": [],
   "source": []
  },
  {
   "cell_type": "markdown",
   "id": "08e5c1ff",
   "metadata": {
    "id": "08e5c1ff"
   },
   "source": [
    "**Завдання 3**: Візуалізуйте з `plotly` розподіл кожного з настуних стовпців відносно того, чи є людина курцем (`smoker`)\n",
    "- `region`\n",
    "- `children`\n",
    "\n",
    "та опишіть коротко свої спостереження."
   ]
  },
  {
   "cell_type": "code",
   "execution_count": null,
   "id": "W4qbj6kpWUVP",
   "metadata": {
    "id": "W4qbj6kpWUVP"
   },
   "outputs": [],
   "source": []
  },
  {
   "cell_type": "markdown",
   "id": "94d4b458",
   "metadata": {
    "id": "94d4b458"
   },
   "source": [
    "**Завдання 4**: Візуалізуйте звʼязок між стовпцем `charges` та `children` використовуючи графіки-скрипки (`px.violin`). Опишіть свої спостереження."
   ]
  },
  {
   "cell_type": "code",
   "execution_count": null,
   "id": "Jo_icWuYWVlq",
   "metadata": {
    "id": "Jo_icWuYWVlq"
   },
   "outputs": [],
   "source": []
  },
  {
   "cell_type": "markdown",
   "id": "2baffd91",
   "metadata": {
    "id": "2baffd91"
   },
   "source": [
    "**Завдання 5.** Розглянемо модель для користувачів, які не є курцями (`no_smoker_df`):\n",
    "\n",
    "$$charges = w \\times age + b$$\n",
    "\n",
    "Спробуйте 3 різні пари параметрів `w` та `b` аби вручну підігнати лінію під дані використовуючи наведені допоміжні функції `estimate_charges` та `try_parameters`. Опишіть спостереження.\n",
    "Пари параметрів мають бути НЕ такі, як були наведені в лекції."
   ]
  },
  {
   "cell_type": "code",
   "execution_count": null,
   "id": "Mq1n6e9bSY4c",
   "metadata": {
    "id": "Mq1n6e9bSY4c"
   },
   "outputs": [],
   "source": [
    "non_smoker_df = medical_df[medical_df.smoker == 'no']"
   ]
  },
  {
   "cell_type": "code",
   "execution_count": null,
   "id": "5a718186",
   "metadata": {
    "id": "5a718186"
   },
   "outputs": [],
   "source": [
    "def estimate_charges(age, w, b):\n",
    "    return w * age + b"
   ]
  },
  {
   "cell_type": "code",
   "execution_count": null,
   "id": "49e0cdcf",
   "metadata": {
    "id": "49e0cdcf"
   },
   "outputs": [],
   "source": [
    "def try_parameters(df, w, b):\n",
    "    ages = df.age\n",
    "    target = df.charges\n",
    "\n",
    "    estimated_charges = estimate_charges(ages, w, b)\n",
    "\n",
    "    plt.plot(ages, estimated_charges, 'r', alpha=0.9);\n",
    "    plt.scatter(ages, target, s=8,alpha=0.8);\n",
    "    plt.xlabel('Age');\n",
    "    plt.ylabel('Charges')\n",
    "    plt.legend(['Estimate', 'Actual']);"
   ]
  },
  {
   "cell_type": "code",
   "execution_count": null,
   "id": "mFtygW-IWhkU",
   "metadata": {
    "id": "mFtygW-IWhkU"
   },
   "outputs": [],
   "source": []
  },
  {
   "cell_type": "markdown",
   "id": "3d1cf458",
   "metadata": {
    "id": "3d1cf458"
   },
   "source": [
    "**Завдання 6**: Напишіть фукнцію для обчислення root mean squared error згідно з формулою цієї метрики точності моделі з використанням `numpy`.\n",
    "\n",
    "Обчисліть RMSE для тих пар пареметрів, які Ви спробували в завданні 5.\n",
    "\n",
    "Яке найнижче значення втрат ви зможете досягти? Чи можете ви придумати загальну стратегію для знаходження кращих значень $w$ та $b$ методом проб та помилок?"
   ]
  },
  {
   "cell_type": "code",
   "execution_count": null,
   "id": "9h-lCkvuWi4L",
   "metadata": {
    "id": "9h-lCkvuWi4L"
   },
   "outputs": [],
   "source": []
  }
 ],
 "metadata": {
  "colab": {
   "provenance": []
  },
  "kernelspec": {
   "display_name": "Python 3 (ipykernel)",
   "language": "python",
   "name": "python3"
  },
  "language_info": {
   "codemirror_mode": {
    "name": "ipython",
    "version": 3
   },
   "file_extension": ".py",
   "mimetype": "text/x-python",
   "name": "python",
   "nbconvert_exporter": "python",
   "pygments_lexer": "ipython3",
   "version": "3.11.8"
  }
 },
 "nbformat": 4,
 "nbformat_minor": 5
}
